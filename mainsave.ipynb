{
 "cells": [
  {
   "cell_type": "code",
   "execution_count": 2,
   "id": "12b45b48",
   "metadata": {},
   "outputs": [
    {
     "name": "stdout",
     "output_type": "stream",
     "text": [
      "        Date  Profit/Losses\n",
      "0   Jan-2010         867884\n",
      "1   Feb-2010         984655\n",
      "2   Mar-2010         322013\n",
      "3   Apr-2010         -69417\n",
      "4   May-2010         310503\n",
      "..       ...            ...\n",
      "81  Oct-2016         102685\n",
      "82  Nov-2016         795914\n",
      "83  Dec-2016          60988\n",
      "84  Jan-2017         138230\n",
      "85  Feb-2017         671099\n",
      "\n",
      "[86 rows x 2 columns]\n"
     ]
    }
   ],
   "source": [
    "import pandas as pd\n",
    "\n",
    "df=pd.read_csv(r'C:\\Users\\pwals\\OneDrive\\Desktop\\PyBank\\Resources\\budget_data.csv')\n",
    "print(df)"
   ]
  },
  {
   "cell_type": "code",
   "execution_count": 37,
   "id": "4c14a27f",
   "metadata": {},
   "outputs": [
    {
     "name": "stdout",
     "output_type": "stream",
     "text": [
      "            Date  Profit/Losses\n",
      "count         86   8.600000e+01\n",
      "unique        86            NaN\n",
      "top     Jan-2010            NaN\n",
      "freq           1            NaN\n",
      "mean         NaN   4.463090e+05\n",
      "std          NaN   5.363579e+05\n",
      "min          NaN  -1.196225e+06\n",
      "25%          NaN   1.821620e+05\n",
      "50%          NaN   5.703280e+05\n",
      "75%          NaN   7.952262e+05\n",
      "max          NaN   1.170593e+06\n",
      "86\n",
      "38382578\n",
      "446309.0465116279\n",
      "1170593\n",
      "-1196225\n"
     ]
    }
   ],
   "source": [
    "df['Profit/Losses'].describe()\n",
    "tk=df.describe(include='all')\n",
    "print(tk)\n",
    "first=df['Date'].count()\n",
    "print(first)\n",
    "second=df['Profit/Losses'].sum()\n",
    "print(second)\n",
    "third=df['Profit/Losses'].mean()\n",
    "print(third)\n",
    "fourth=df['Profit/Losses'].max()\n",
    "print(fourth)\n",
    "fifth=df['Profit/Losses'].min()\n",
    "print(fifth)"
   ]
  },
  {
   "cell_type": "code",
   "execution_count": 41,
   "id": "507a79f3",
   "metadata": {},
   "outputs": [
    {
     "name": "stdout",
     "output_type": "stream",
     "text": [
      "                                              item    category  \\\n",
      "0                                          edamame  appetizers   \n",
      "1                                      house salad  appetizers   \n",
      "2                          cucumber sunomono salad  appetizers   \n",
      "3                     hiyashi wakame seaweed salad  appetizers   \n",
      "4                                    agedashi tofu  appetizers   \n",
      "5                                   hiyayakko tofu  appetizers   \n",
      "6                                   pork floss bao  appetizers   \n",
      "7                                       kakuni bao  appetizers   \n",
      "8                      edamame fried gyoza (vegan)  appetizers   \n",
      "9                                      fried gyoza  appetizers   \n",
      "10                                        takoyaki  appetizers   \n",
      "11                             rock shrimp tempura  appetizers   \n",
      "12                         soft-shell crab tempura  appetizers   \n",
      "13                            ebi katsu shrimp bao  appetizers   \n",
      "14                                    nagomi shoyu      entree   \n",
      "15                                      shio ramen      entree   \n",
      "16                                spicy miso ramen      entree   \n",
      "17                           vegetarian spicy miso      entree   \n",
      "18                                 miso crab ramen      entree   \n",
      "19                      soft-shell miso crab ramen      entree   \n",
      "20                               tori paitan ramen      entree   \n",
      "21                                  tonkotsu ramen      entree   \n",
      "22                     burnt garlic tonkotsu ramen      entree   \n",
      "23  vegetarian curry + king trumpet mushroom ramen      entree   \n",
      "24                            truffle butter ramen      entree   \n",
      "25                                       green tea      drinks   \n",
      "26                                            coke      drinks   \n",
      "27                          black sesame ice cream    desserts   \n",
      "28                                matcha ice cream    desserts   \n",
      "29                           mango mochi ice cream    desserts   \n",
      "30                      strawberry mochi ice cream    desserts   \n",
      "31                       black sesame creme brulee    desserts   \n",
      "\n",
      "                                          description  price  cost  \n",
      "0                    boiled soybeans, maldon sea salt    4.0     1  \n",
      "1   mixed greens, cherry tomatoes, cucumber, house...    4.0     2  \n",
      "2   cucumber, ponzu dressing, pickled ginger sprou...    5.0     2  \n",
      "3   sweet soy-marinated wakame seaweed threads, pi...    5.0     2  \n",
      "4   tempura battered tofu, katsuobushi, tsuyu brot...    5.0     2  \n",
      "5   chilled soft tofu, house shoyu, katsuobushi, g...    5.0     2  \n",
      "6   two steamed buns, minced lean slow braised nim...    4.0     2  \n",
      "7   two steamed buns, chopped fatty slow braised n...    6.0     3  \n",
      "8   six crispy fried edamame and cabbage pot stick...    6.0     3  \n",
      "9   six cripsy fried pork and vegetable pot sticke...    6.0     6  \n",
      "10  six octopus-filled fried fritters, kewpie mayo...    6.0     3  \n",
      "11  deep fried tempura battered rock shrimp, srira...    6.0     3  \n",
      "12  single deep fried soft-shell crab, tsuyu dippi...    6.0     3  \n",
      "13  two steamed buns, panko-crusted fried shrimp p...    6.0     3  \n",
      "14  shoyu seasoned clear double stock (organic chi...   11.0     5  \n",
      "15  sea salt seasoned clear double stock (organic ...   11.0     5  \n",
      "16  house togarashi miso blend + niman ranch pork ...   12.0     5  \n",
      "17  house togarashi miso blend + vegan dashi; temp...   12.0     5  \n",
      "18  house miso crab blend + vegan dashi; slow brai...   12.0     6  \n",
      "19  house miso crab blend + vegan dashi; fried who...   14.0     7  \n",
      "20  rich, shoyu seasoned double stock (organic chi...   13.0     6  \n",
      "21  rich, shoyi seasoned niman ranch pork bone sto...   13.0     6  \n",
      "22  rich, shoyi and burnt garlic seasoned niman ra...   14.0     6  \n",
      "23  house curry blend + vegan dashi; fried king tr...   13.0     7  \n",
      "24  rich, shoyu seasoned niman ranch prok bone sto...   14.0     7  \n",
      "25                                          green tea    2.5     1  \n",
      "26                                     Coca Cola soda    2.0     1  \n",
      "27  house-made black sesame ice cream, valrhona ch...    5.0     2  \n",
      "28  house-made matcha ice cream, white chocolate p...    5.0     2  \n",
      "29  two rice-cake bonbons filled with strawberry i...    5.0     2  \n",
      "30  two rice-cake bonbons filled with strawberry i...    5.0     2  \n",
      "31  house made black sesame infused creme brulee; ...    6.0     3  \n"
     ]
    }
   ],
   "source": [
    "menudf=pd.read_csv(r'C:\\Users\\pwals\\OneDrive\\Desktop\\PyRamen\\Resources\\menu_data.csv')\n",
    "print(menudf)\n"
   ]
  },
  {
   "cell_type": "code",
   "execution_count": 42,
   "id": "2d4776e8",
   "metadata": {},
   "outputs": [
    {
     "name": "stdout",
     "output_type": "stream",
     "text": [
      "       Line_Item_ID        Date  Credit_Card_Number  Quantity  \\\n",
      "0                 1  01-01-2017    7437926611570799         1   \n",
      "1                 2  01-01-2017    7437926611570799         1   \n",
      "2                 3  01-01-2017    8421920068932819         3   \n",
      "3                 4  01-01-2017    8421920068932819         3   \n",
      "4                 5  01-01-2017    4787310681569648         1   \n",
      "...             ...         ...                 ...       ...   \n",
      "74119         74120  12-31-2018    1697055332228941         4   \n",
      "74120         74121  12-31-2018    6800009643487106         1   \n",
      "74121         74122  12-31-2018    6800009643487106         1   \n",
      "74122         74123  12-31-2018    5981057609583653         2   \n",
      "74123         74124  12-31-2018    5981057609583653         2   \n",
      "\n",
      "                   Menu_Item  \n",
      "0           spicy miso ramen  \n",
      "1           spicy miso ramen  \n",
      "2          tori paitan ramen  \n",
      "3          tori paitan ramen  \n",
      "4       truffle butter ramen  \n",
      "...                      ...  \n",
      "74119         tonkotsu ramen  \n",
      "74120  vegetarian spicy miso  \n",
      "74121  vegetarian spicy miso  \n",
      "74122       spicy miso ramen  \n",
      "74123       spicy miso ramen  \n",
      "\n",
      "[74124 rows x 5 columns]\n"
     ]
    }
   ],
   "source": [
    "salesdf=pd.read_csv(r'C:\\Users\\pwals\\OneDrive\\Desktop\\PyRamen\\Resources\\sales_data.csv')\n",
    "print(salesdf)"
   ]
  },
  {
   "cell_type": "code",
   "execution_count": 47,
   "id": "e1b3b5cf",
   "metadata": {},
   "outputs": [
    {
     "name": "stdout",
     "output_type": "stream",
     "text": [
      "           item    category  \\\n",
      "count        32          32   \n",
      "unique       32           4   \n",
      "top     edamame  appetizers   \n",
      "freq          1          14   \n",
      "mean        NaN         NaN   \n",
      "std         NaN         NaN   \n",
      "min         NaN         NaN   \n",
      "25%         NaN         NaN   \n",
      "50%         NaN         NaN   \n",
      "75%         NaN         NaN   \n",
      "max         NaN         NaN   \n",
      "\n",
      "                                              description      price  \\\n",
      "count                                                  32  32.000000   \n",
      "unique                                                 31        NaN   \n",
      "top     two rice-cake bonbons filled with strawberry i...        NaN   \n",
      "freq                                                    2        NaN   \n",
      "mean                                                  NaN   7.609375   \n",
      "std                                                   NaN   3.862003   \n",
      "min                                                   NaN   2.000000   \n",
      "25%                                                   NaN   5.000000   \n",
      "50%                                                   NaN   6.000000   \n",
      "75%                                                   NaN  12.000000   \n",
      "max                                                   NaN  14.000000   \n",
      "\n",
      "             cost  \n",
      "count   32.000000  \n",
      "unique        NaN  \n",
      "top           NaN  \n",
      "freq          NaN  \n",
      "mean     3.593750  \n",
      "std      1.965171  \n",
      "min      1.000000  \n",
      "25%      2.000000  \n",
      "50%      3.000000  \n",
      "75%      5.250000  \n",
      "max      7.000000  \n",
      "        Line_Item_ID        Date  Credit_Card_Number      Quantity  \\\n",
      "count   74124.000000       74124        7.412400e+04  74124.000000   \n",
      "unique           NaN         724                 NaN           NaN   \n",
      "top              NaN  10-18-2018                 NaN           NaN   \n",
      "freq             NaN         198                 NaN           NaN   \n",
      "mean    37062.500000         NaN        4.987993e+15      1.350521   \n",
      "std     21397.900014         NaN        2.883384e+15      0.789305   \n",
      "min         1.000000         NaN        1.637593e+11      1.000000   \n",
      "25%     18531.750000         NaN        2.498660e+15      1.000000   \n",
      "50%     37062.500000         NaN        4.993348e+15      1.000000   \n",
      "75%     55593.250000         NaN        7.468494e+15      1.000000   \n",
      "max     74124.000000         NaN        9.999826e+15      4.000000   \n",
      "\n",
      "                    Menu_Item  \n",
      "count                   74124  \n",
      "unique                     11  \n",
      "top     vegetarian spicy miso  \n",
      "freq                     6822  \n",
      "mean                      NaN  \n",
      "std                       NaN  \n",
      "min                       NaN  \n",
      "25%                       NaN  \n",
      "50%                       NaN  \n",
      "75%                       NaN  \n",
      "max                       NaN  \n"
     ]
    }
   ],
   "source": [
    "pk=menudf.describe(include='all')\n",
    "print(pk)\n",
    "\n",
    "Xk=salesdf.describe(include='all')\n",
    "print(Xk)\n"
   ]
  },
  {
   "cell_type": "code",
   "execution_count": null,
   "id": "b55f8bce",
   "metadata": {},
   "outputs": [],
   "source": [
    "while salesdf['Menu_Item'].count()!=0:\n",
    "    salesdf['Revenue']=menudf['price']\n",
    "    salesdf['COGS']=menudf['cost']\n",
    "    salesdf['Profit']=menudf['price']-menudf['cost']\n",
    "print(salesdf)\n"
   ]
  },
  {
   "cell_type": "code",
   "execution_count": null,
   "id": "3502b607",
   "metadata": {},
   "outputs": [],
   "source": []
  }
 ],
 "metadata": {
  "kernelspec": {
   "display_name": "Python 3 (ipykernel)",
   "language": "python",
   "name": "python3"
  },
  "language_info": {
   "codemirror_mode": {
    "name": "ipython",
    "version": 3
   },
   "file_extension": ".py",
   "mimetype": "text/x-python",
   "name": "python",
   "nbconvert_exporter": "python",
   "pygments_lexer": "ipython3",
   "version": "3.9.13"
  }
 },
 "nbformat": 4,
 "nbformat_minor": 5
}
